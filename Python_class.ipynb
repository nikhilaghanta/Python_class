{
 "cells": [
  {
   "cell_type": "code",
   "execution_count": 3,
   "id": "bd5dfbfd",
   "metadata": {},
   "outputs": [
    {
     "name": "stdout",
     "output_type": "stream",
     "text": [
      "x :10\n",
      "n :2\n"
     ]
    },
    {
     "data": {
      "text/plain": [
       "100"
      ]
     },
     "execution_count": 3,
     "metadata": {},
     "output_type": "execute_result"
    }
   ],
   "source": [
    "import math\n",
    "class power:\n",
    "    def powfn(self,x,n):\n",
    "        self.x = x\n",
    "        self.n = n\n",
    "        return pow(self.x,self.n)\n",
    "\n",
    "pw = power()\n",
    "x = int(input(\"x :\"))\n",
    "n = int(input(\"n :\"))\n",
    "pw.powfn(x,n)"
   ]
  },
  {
   "cell_type": "code",
   "execution_count": null,
   "id": "b35316d0",
   "metadata": {},
   "outputs": [],
   "source": []
  },
  {
   "cell_type": "code",
   "execution_count": null,
   "id": "b3322656",
   "metadata": {},
   "outputs": [],
   "source": []
  }
 ],
 "metadata": {
  "kernelspec": {
   "display_name": "Python 3 (ipykernel)",
   "language": "python",
   "name": "python3"
  },
  "language_info": {
   "codemirror_mode": {
    "name": "ipython",
    "version": 3
   },
   "file_extension": ".py",
   "mimetype": "text/x-python",
   "name": "python",
   "nbconvert_exporter": "python",
   "pygments_lexer": "ipython3",
   "version": "3.9.8"
  }
 },
 "nbformat": 4,
 "nbformat_minor": 5
}
